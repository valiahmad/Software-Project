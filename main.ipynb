{
 "cells": [
  {
   "cell_type": "code",
   "execution_count": 1,
   "metadata": {},
   "outputs": [],
   "source": [
    "################################ LIBRARIES\n",
    "from Color import *\n",
    "import string\n",
    "import pandas as pd\n",
    "from settings import setting\n",
    "from datasetToDict import Parse\n",
    "from nltk.tokenize import word_tokenize\n",
    "from spellchecker import SpellChecker\n",
    "from nltk import pos_tag\n",
    "from nltk.corpus import stopwords\n",
    "from nltk.stem.snowball import SnowballStemmer\n",
    "from nltk.stem import WordNetLemmatizer\n",
    "################################ LIBRARIES\n",
    "Settings = setting()\n",
    "# Settings = set()"
   ]
  },
  {
   "cell_type": "code",
   "execution_count": 2,
   "metadata": {},
   "outputs": [
    {
     "name": "stdout",
     "output_type": "stream",
     "text": [
      "\u001b[0;34;40m\n",
      " Excel File Has Been Loaded!\u001b[0m\n",
      "Index(['Review', 'Feature', 'Features', 'Feature List', 'Polarity List'], dtype='object')\n"
     ]
    }
   ],
   "source": [
    "# Loading Data\n",
    "if Settings['Excel File']:\n",
    "    df = pd.read_excel('file.xlsx')\n",
    "    print(SIMP+fblue+bgray+'\\n Excel File Has Been Loaded!'+End)\n",
    "else:\n",
    "    df = Parse()\n",
    "    df = df.returnMode(dataFrameMode=True)\n",
    "print(df.columns)"
   ]
  },
  {
   "cell_type": "code",
   "execution_count": 3,
   "metadata": {},
   "outputs": [],
   "source": [
    "# Amount of Data to Use\n",
    "df = df.iloc[0:100]\n",
    "# if Settings['Percetage']:\n",
    "#     df = df.sample(frac=Settings['percetage'])\n",
    "#     print(SIMP+fblue+bgray+'\\n %d%% Data Randomly Selected!'+End % Settings['percetage'])\n",
    "# elif Settings['Number']:\n",
    "#     df = df.sample(n=Settings['number'])\n",
    "#     print(SIMP+fblue+bgray+'\\n %d Numbers Samples Randomly Selected!'+End % Settings['number'])\n",
    "# else:\n",
    "#     print(SIMP+fblue+bgray+'\\n All Data Is Been Processed!'+End)\n"
   ]
  },
  {
   "cell_type": "code",
   "execution_count": 4,
   "metadata": {},
   "outputs": [
    {
     "name": "stdout",
     "output_type": "stream",
     "text": [
      "\u001b[0;34;40m\n",
      " Punctuation Removal Done!\u001b[0m\n"
     ]
    }
   ],
   "source": [
    "# Punctuations Removal !\"#$%&\\'()*+,-./:;<=>?@[\\\\]^_`{|}~\n",
    "if Settings['Punctuation']:\n",
    "    df['Review'] = df['Review'].str.translate(str.maketrans('', '', string.punctuation))\n",
    "    print(SIMP+fblue+bgray+'\\n Punctuation Removal Done!'+End)"
   ]
  },
  {
   "cell_type": "code",
   "execution_count": 5,
   "metadata": {},
   "outputs": [],
   "source": [
    "# Digit Removal\n",
    "if Settings['Digit']:\n",
    "    df['Review'] = df['Review'].str.translate(str.maketrans('', '', string.digits))\n",
    "    print(SIMP+fblue+bgray+'\\n Digit Removal Done!'+End)"
   ]
  },
  {
   "cell_type": "code",
   "execution_count": 6,
   "metadata": {},
   "outputs": [
    {
     "name": "stdout",
     "output_type": "stream",
     "text": [
      "\u001b[0;34;40m\n",
      " Less Than 10 Letters Reviews Droped!\u001b[0m\n"
     ]
    }
   ],
   "source": [
    "# Reviews Removal of less than 10 letters\n",
    "if Settings['<10letters']:\n",
    "    df = df.drop(df[df['Review'].str.len() < 10].index)\n",
    "    print(SIMP+fblue+bgray+'\\n Less Than 10 Letters Reviews Droped!'+End)"
   ]
  },
  {
   "cell_type": "code",
   "execution_count": 7,
   "metadata": {},
   "outputs": [
    {
     "name": "stdout",
     "output_type": "stream",
     "text": [
      "\u001b[0;34;40m\n",
      " Tokenization Done!\u001b[0m\n"
     ]
    }
   ],
   "source": [
    "# Tokenized reviews text\n",
    "if Settings['Tokenization']:\n",
    "    df['Tokenized'] = df['Review'].apply(word_tokenize)\n",
    "    print(SIMP+fblue+bgray+'\\n Tokenization Done!'+End)\n",
    "else:\n",
    "    print(BOLD+fred+bgray+'\\nData is NOT Tokenized!!!'+End)\n",
    "    input('\\nTo Continue Press Enter...')"
   ]
  },
  {
   "cell_type": "code",
   "execution_count": 8,
   "metadata": {},
   "outputs": [
    {
     "name": "stdout",
     "output_type": "stream",
     "text": [
      "\u001b[0;34;40m\n",
      " Spell Checked!\u001b[0m\n"
     ]
    }
   ],
   "source": [
    "# Correcting word spells\n",
    "if Settings['Spell Checking']:\n",
    "    spell = SpellChecker()\n",
    "    df['Tokenized-Original'] = df['Tokenized']\n",
    "    df['Tokenized'] = df['Tokenized'].apply(lambda x: [spell.correction(word) for word in x])\n",
    "    df['Token-Check'] = df['Tokenized'].apply(lambda x: [x for word in x if word is None])\n",
    "    df['Tokenized'] = df['Tokenized'].apply(lambda x: [word for word in x if word is not None])\n",
    "    print(SIMP+fblue+bgray+'\\n Spell Checked!'+End)\n",
    "else:\n",
    "    print(BOLD+fred+bgray+'\\nData is NOT Spell-Checked!!!'+End)\n",
    "    input('\\nTo Continue Press Enter...')"
   ]
  },
  {
   "cell_type": "code",
   "execution_count": 9,
   "metadata": {},
   "outputs": [
    {
     "name": "stdout",
     "output_type": "stream",
     "text": [
      "\u001b[0;34;40m\n",
      " POS Tagged!\u001b[0m\n"
     ]
    }
   ],
   "source": [
    "# Tagging Part-of-Speech\n",
    "if Settings['POS Tagging']:\n",
    "    df['Tagged'] = df['Tokenized'].apply(pos_tag)\n",
    "    print(SIMP+fblue+bgray+'\\n POS Tagged!'+End)"
   ]
  },
  {
   "cell_type": "code",
   "execution_count": 10,
   "metadata": {},
   "outputs": [
    {
     "name": "stdout",
     "output_type": "stream",
     "text": [
      "\u001b[0;34;40m\n",
      " Words Stemmed!\u001b[0m\n"
     ]
    }
   ],
   "source": [
    "# Stemming\n",
    "if Settings['Stemming']:\n",
    "    stemmer = SnowballStemmer(\"english\")\n",
    "    df['Stemmed'] = df['Tokenized'].apply(lambda x: [stemmer.stem(word) for word in x])\n",
    "    print(SIMP+fblue+bgray+'\\n Words Stemmed!'+End)"
   ]
  },
  {
   "cell_type": "code",
   "execution_count": 11,
   "metadata": {},
   "outputs": [
    {
     "name": "stdout",
     "output_type": "stream",
     "text": [
      "\u001b[0;34;40m\n",
      " Lemmatization Done!\u001b[0m\n"
     ]
    }
   ],
   "source": [
    "# Lemmatization\n",
    "if Settings['Lemmatization']:\n",
    "    wnl = WordNetLemmatizer()\n",
    "    df['Lemmatized'] = df['Tokenized'].apply(lambda x: [wnl.lemmatize(word, 'v') for word in x])\n",
    "    print(SIMP+fblue+bgray+'\\n Lemmatization Done!'+End)"
   ]
  },
  {
   "cell_type": "code",
   "execution_count": 12,
   "metadata": {},
   "outputs": [],
   "source": [
    "df.to_excel('file_Preprocessed.xlsx')"
   ]
  }
 ],
 "metadata": {
  "kernelspec": {
   "display_name": "Python 3",
   "language": "python",
   "name": "python3"
  },
  "language_info": {
   "codemirror_mode": {
    "name": "ipython",
    "version": 3
   },
   "file_extension": ".py",
   "mimetype": "text/x-python",
   "name": "python",
   "nbconvert_exporter": "python",
   "pygments_lexer": "ipython3",
   "version": "3.9.7"
  },
  "orig_nbformat": 4,
  "vscode": {
   "interpreter": {
    "hash": "aa6d936eb79452adb939c4f0d0f171c97c0613382ef3af9aea3d75ac9fc2314f"
   }
  }
 },
 "nbformat": 4,
 "nbformat_minor": 2
}
