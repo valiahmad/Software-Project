{
 "cells": [
  {
   "cell_type": "code",
   "execution_count": null,
   "metadata": {},
   "outputs": [],
   "source": [
    "################################ LIBRARIES\n",
    "from Color import *\n",
    "import string\n",
    "import pandas as pd\n",
    "from settings import setting\n",
    "from datasetToDict import Parse\n",
    "from nltk.tokenize import word_tokenize\n",
    "from spellchecker import SpellChecker\n",
    "from nltk import pos_tag\n",
    "from nltk.corpus import stopwords\n",
    "from nltk.stem.snowball import SnowballStemmer\n",
    "from nltk.stem import WordNetLemmatizer\n",
    "################################ LIBRARIES\n",
    "Settings = setting()\n",
    "# Settings = set()"
   ]
  },
  {
   "cell_type": "code",
   "execution_count": null,
   "metadata": {},
   "outputs": [],
   "source": [
    "# Loading Data\n",
    "if Settings['Excel File']:\n",
    "    df = pd.read_excel('file.xlsx')\n",
    "    print(SIMP+fblue+bgray+'\\n Excel File Has Been Loaded!'+End)\n",
    "else:\n",
    "    df = Parse()\n",
    "    df = df.returnMode(dataFrameMode=True)\n",
    "print(df.columns)"
   ]
  },
  {
   "cell_type": "code",
   "execution_count": null,
   "metadata": {},
   "outputs": [],
   "source": [
    "# Amount of Data to Use\n",
    "df = df.iloc[0:100]\n",
    "# if Settings['Percetage']:\n",
    "#     df = df.sample(frac=Settings['percetage'])\n",
    "#     print(SIMP+fblue+bgray+'\\n %d%% Data Randomly Selected!'+End % Settings['percetage'])\n",
    "# elif Settings['Number']:\n",
    "#     df = df.sample(n=Settings['number'])\n",
    "#     print(SIMP+fblue+bgray+'\\n %d Numbers Samples Randomly Selected!'+End % Settings['number'])\n",
    "# else:\n",
    "#     print(SIMP+fblue+bgray+'\\n All Data Is Been Processed!'+End)\n"
   ]
  },
  {
   "cell_type": "code",
   "execution_count": null,
   "metadata": {},
   "outputs": [],
   "source": [
    "# Punctuations Removal !\"#$%&\\'()*+,-./:;<=>?@[\\\\]^_`{|}~\n",
    "if Settings['Punctuation']:\n",
    "    df['Review'] = df['Review'].str.translate(str.maketrans('', '', string.punctuation))\n",
    "    print(SIMP+fblue+bgray+'\\n Punctuation Removal Done!'+End)"
   ]
  },
  {
   "cell_type": "code",
   "execution_count": null,
   "metadata": {},
   "outputs": [],
   "source": [
    "# Digit Removal\n",
    "if Settings['Digit']:\n",
    "    df['Review'] = df['Review'].str.translate(str.maketrans('', '', string.digits))\n",
    "    print(SIMP+fblue+bgray+'\\n Digit Removal Done!'+End)"
   ]
  },
  {
   "cell_type": "code",
   "execution_count": null,
   "metadata": {},
   "outputs": [],
   "source": [
    "# Reviews Removal of less than 10 letters\n",
    "if Settings['<10letters']:\n",
    "    df = df.drop(df[df['Review'].str.len() < 10].index)\n",
    "    print(SIMP+fblue+bgray+'\\n Less Than 10 Letters Reviews Droped!'+End)"
   ]
  },
  {
   "cell_type": "code",
   "execution_count": null,
   "metadata": {},
   "outputs": [],
   "source": [
    "# Tokenized reviews text\n",
    "if Settings['Tokenization']:\n",
    "    df['Tokenized'] = df['Review'].apply(word_tokenize)\n",
    "    print(SIMP+fblue+bgray+'\\n Tokenization Done!'+End)\n",
    "else:\n",
    "    print(BOLD+fred+bgray+'\\nData is NOT Tokenized!!!'+End)\n",
    "    input('\\nTo Continue Press Enter...')"
   ]
  },
  {
   "cell_type": "code",
   "execution_count": null,
   "metadata": {},
   "outputs": [],
   "source": [
    "# Correcting word spells\n",
    "if Settings['Spell Checking']:\n",
    "    spell = SpellChecker()\n",
    "    df['Tokenized-Original'] = df['Tokenized']\n",
    "    df['Tokenized'] = df['Tokenized'].apply(lambda x: [spell.correction(word) for word in x])\n",
    "    df['Token-Check'] = df['Tokenized'].apply(lambda x: [x for word in x if word is None])\n",
    "    df['Tokenized'] = df['Tokenized'].apply(lambda x: [word for word in x if word is not None])\n",
    "    print(SIMP+fblue+bgray+'\\n Spell Checked!'+End)\n",
    "else:\n",
    "    print(BOLD+fred+bgray+'\\nData is NOT Spell-Checked!!!'+End)\n",
    "    input('\\nTo Continue Press Enter...')"
   ]
  },
  {
   "cell_type": "code",
   "execution_count": null,
   "metadata": {},
   "outputs": [],
   "source": [
    "# Tagging Part-of-Speech\n",
    "if Settings['POS Tagging']:\n",
    "    df['Tagged'] = df['Tokenized'].apply(pos_tag)\n",
    "    print(SIMP+fblue+bgray+'\\n POS Tagged!'+End)"
   ]
  },
  {
   "cell_type": "code",
   "execution_count": null,
   "metadata": {},
   "outputs": [],
   "source": [
    "# Stemming\n",
    "if Settings['Stemming']:\n",
    "    stemmer = SnowballStemmer(\"english\")\n",
    "    df['Stemmed'] = df['Tokenized'].apply(lambda x: [stemmer.stem(word) for word in x])\n",
    "    print(SIMP+fblue+bgray+'\\n Words Stemmed!'+End)"
   ]
  },
  {
   "cell_type": "code",
   "execution_count": null,
   "metadata": {},
   "outputs": [],
   "source": [
    "# Lemmatization\n",
    "if Settings['Lemmatization']:\n",
    "    wnl = WordNetLemmatizer()\n",
    "    df['Lemmatized'] = df['Tokenized'].apply(lambda x: [wnl.lemmatize(word, 'v') for word in x])\n",
    "    print(SIMP+fblue+bgray+'\\n Lemmatization Done!'+End)"
   ]
  },
  {
   "cell_type": "code",
   "execution_count": null,
   "metadata": {},
   "outputs": [],
   "source": [
    "df.to_excel('file_Preprocessed.xlsx')"
   ]
  }
 ],
 "metadata": {
  "kernelspec": {
   "display_name": "Python 3",
   "language": "python",
   "name": "python3"
  },
  "language_info": {
   "codemirror_mode": {
    "name": "ipython",
    "version": 3
   },
   "file_extension": ".py",
   "mimetype": "text/x-python",
   "name": "python",
   "nbconvert_exporter": "python",
   "pygments_lexer": "ipython3",
   "version": "3.10.11"
  },
  "orig_nbformat": 4,
  "vscode": {
   "interpreter": {
    "hash": "40c4074babae3211410f8d3bc42982a42c990f73fbbdfa532b94369dc98e3cb2"
   }
  }
 },
 "nbformat": 4,
 "nbformat_minor": 2
}
