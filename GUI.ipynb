{
 "cells": [
  {
   "cell_type": "code",
   "execution_count": 20,
   "metadata": {},
   "outputs": [
    {
     "data": {
      "text/html": [
       "<span class=\"tex2jax_ignore\"><h2 style=\"margin: 0\">Review of Laptops Dataset</h2>\n",
       "\n",
       "<div class=\"entities\" style=\"line-height: 2.5; direction: ltr\">The \n",
       "<mark class=\"entity\" style=\"background: yellow; padding: 0.45em 0.6em; margin: 0 0.25em; line-height: 1; border-radius: 0.35em;\">\n",
       "    battery\n",
       "    <span style=\"font-size: 0.8em; font-weight: bold; line-height: 1; border-radius: 0.35em; vertical-align: middle; margin-left: 0.5rem\">Feature</span>\n",
       "</mark>\n",
       " is so cool.</div></span>"
      ],
      "text/plain": [
       "<IPython.core.display.HTML object>"
      ]
     },
     "metadata": {},
     "output_type": "display_data"
    }
   ],
   "source": [
    "from spacy import displacy\n",
    "ex = [{\"text\": \"The battery is so cool.\",\n",
    "       \"ents\": [{\"start\": 4, \"end\": 11, \"label\": \"Feature\"}],\n",
    "       \"title\": 'Review of Laptops Dataset'}]\n",
    "options = {\"ents\": [\"Feature\"],\n",
    "           \"colors\": {\"Feature\": \"yellow\"}}\n",
    "displacy.render(ex, style=\"ent\", manual=True, options=options)\n",
    "\n",
    "# import spacy\n",
    "# nlp = spacy.load('en_core_web_sm')\n",
    "# doc = nlp('Bill Gates is the CEO of Microsoft.')\n",
    "# displacy.serve(doc, style='ent')"
   ]
  }
 ],
 "metadata": {
  "kernelspec": {
   "display_name": "Python 3",
   "language": "python",
   "name": "python3"
  },
  "language_info": {
   "codemirror_mode": {
    "name": "ipython",
    "version": 3
   },
   "file_extension": ".py",
   "mimetype": "text/x-python",
   "name": "python",
   "nbconvert_exporter": "python",
   "pygments_lexer": "ipython3",
   "version": "3.10.11"
  },
  "orig_nbformat": 4
 },
 "nbformat": 4,
 "nbformat_minor": 2
}
